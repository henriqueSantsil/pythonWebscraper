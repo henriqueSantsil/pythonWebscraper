{
 "cells": [
  {
   "cell_type": "code",
   "execution_count": 47,
   "id": "4c9dcb17",
   "metadata": {},
   "outputs": [],
   "source": [
    "from bs4 import BeautifulSoup\n",
    "import requests\n",
    "import time\n",
    "import pandas as pd\n",
    "from selenium import webdriver\n",
    "from selenium.webdriver.firefox.options import Options\n",
    "from selenium.webdriver.common.by import By\n",
    "import json"
   ]
  },
  {
   "cell_type": "code",
   "execution_count": 48,
   "id": "0ce26be4",
   "metadata": {},
   "outputs": [],
   "source": [
    "#pegando os dados que precisamos\n",
    "\n",
    "url = \"https://www.nba.com/stats/players/traditional?PerMode=Totals&sort=PTS&dir=-1\"\n",
    "\n",
    "\n",
    "top10ranking = {}\n",
    "\n",
    "rankings = {\n",
    "    '3points': {'field': 'FG3M', 'label': '3PM'},\n",
    "    'points': {'field': 'PTS', 'label': 'PTS'},\n",
    "    'assistants': {'field': 'AST', 'label': 'AST'},\n",
    "    'rebounds': {'field': 'REB', 'label': 'REB'},\n",
    "    'steals': {'field': 'STL', 'label': 'STL'},\n",
    "    'blocks': {'field': 'BLK', 'label': 'BLK'},\n",
    "}\n",
    "def buildrank(type):\n",
    "\n",
    "    field = rankings[type]['field'] \n",
    "    label = rankings[type]['label'] \n",
    "    \n",
    "    driver.find_element(By.XPATH, f\"//div[@class='Crom_container__C45Ti crom-container']//table//thead//tr//th[@field='{field}']\").click\n",
    "    element = driver.find_element(By.XPATH, \"//div[@class='Crom_container__C45Ti crom-container']//table\")\n",
    "    html_content = element.get_attribute('outerHTML')\n",
    "    \n",
    "    soup = BeautifulSoup(html_content, 'html5lib')\n",
    "    table = soup.find(name='table')\n",
    "    \n",
    "    df_full = pd.read_html(str(table))[0].head(10)\n",
    "    df = df_full[['Unnamed: 0', 'Player', 'Team', label]]\n",
    "    df.columns = ['pos', 'player', 'team', 'total']\n",
    "   \n",
    "    return  df.to_dict('records')"
   ]
  },
  {
   "cell_type": "code",
   "execution_count": 49,
   "id": "50be2346",
   "metadata": {},
   "outputs": [],
   "source": [
    "options = Options()\n",
    "options.headless = True\n",
    "driver = webdriver.Firefox(options=options)\n",
    "\n",
    "driver.get(url)\n",
    "time.sleep(15)\n",
    "\n",
    "#essa linha aqui ta sendo usada pra poder aceitar os cookies automaticamente\n",
    "driver.find_element(By.XPATH,\"//div[@class='ot-sdk-container']//div[@class='ot-sdk-row']//div[@class='ot-sdk-three ot-sdk-columns has-reject-all-button']//div[@id='onetrust-button-group']//button[@id='onetrust-accept-btn-handler']\").click()\n",
    "time.sleep(5)\n",
    "\n",
    "for k in rankings:\n",
    "    top10ranking[k] = buildrank(k)\n",
    "    \n",
    "driver.quit()"
   ]
  },
  {
   "cell_type": "code",
   "execution_count": 50,
   "id": "4fbaa0f1",
   "metadata": {},
   "outputs": [],
   "source": [
    "js = json.dumps(top10ranking)\n",
    "fp = open('ranking.json', 'w')\n",
    "fp.write(js)\n",
    "fp.close()"
   ]
  },
  {
   "cell_type": "code",
   "execution_count": null,
   "id": "e8d21753",
   "metadata": {},
   "outputs": [],
   "source": []
  }
 ],
 "metadata": {
  "kernelspec": {
   "display_name": "Python 3 (ipykernel)",
   "language": "python",
   "name": "python3"
  },
  "language_info": {
   "codemirror_mode": {
    "name": "ipython",
    "version": 3
   },
   "file_extension": ".py",
   "mimetype": "text/x-python",
   "name": "python",
   "nbconvert_exporter": "python",
   "pygments_lexer": "ipython3",
   "version": "3.11.5"
  }
 },
 "nbformat": 4,
 "nbformat_minor": 5
}
